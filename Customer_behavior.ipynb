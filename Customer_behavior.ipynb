{
  "nbformat": 4,
  "nbformat_minor": 0,
  "metadata": {
    "colab": {
      "provenance": []
    },
    "kernelspec": {
      "name": "python3",
      "display_name": "Python 3"
    },
    "language_info": {
      "name": "python"
    }
  },
  "cells": [
    {
      "cell_type": "code",
      "execution_count": 1,
      "metadata": {
        "colab": {
          "base_uri": "https://localhost:8080/"
        },
        "id": "3zgMHOTmjXNM",
        "outputId": "b70024d8-722f-48eb-d177-0c8615c15ee8"
      },
      "outputs": [
        {
          "output_type": "stream",
          "name": "stdout",
          "text": [
            "Reading package lists... Done\n",
            "Building dependency tree... Done\n",
            "Reading state information... Done\n",
            "Suggested packages:\n",
            "  sqlite3-doc\n",
            "The following NEW packages will be installed:\n",
            "  sqlite3\n",
            "0 upgraded, 1 newly installed, 0 to remove and 49 not upgraded.\n",
            "Need to get 768 kB of archives.\n",
            "After this operation, 1,873 kB of additional disk space will be used.\n",
            "Get:1 http://archive.ubuntu.com/ubuntu jammy-updates/main amd64 sqlite3 amd64 3.37.2-2ubuntu0.3 [768 kB]\n",
            "Fetched 768 kB in 1s (1,204 kB/s)\n",
            "Selecting previously unselected package sqlite3.\n",
            "(Reading database ... 123630 files and directories currently installed.)\n",
            "Preparing to unpack .../sqlite3_3.37.2-2ubuntu0.3_amd64.deb ...\n",
            "Unpacking sqlite3 (3.37.2-2ubuntu0.3) ...\n",
            "Setting up sqlite3 (3.37.2-2ubuntu0.3) ...\n",
            "Processing triggers for man-db (2.10.2-1) ...\n"
          ]
        }
      ],
      "source": [
        "!apt-get install sqlite3\n"
      ]
    },
    {
      "cell_type": "code",
      "source": [
        "import pandas as pd\n",
        "import sqlite3\n",
        "\n",
        "# Load the dataset into a Pandas DataFrame\n",
        "data = pd.read_csv('Customer_data.csv')\n",
        "\n",
        "# Connect to SQLite (creates a new database if it doesn't exist)\n",
        "conn = sqlite3.connect('customer_segmentation.db')\n",
        "\n",
        "# Load the DataFrame into SQLite\n",
        "data.to_sql('customers', conn, if_exists='replace', index=False)\n",
        "\n",
        "# Verify the table was created\n",
        "query = \"SELECT * FROM customers LIMIT 5;\"\n",
        "print(pd.read_sql(query, conn))\n"
      ],
      "metadata": {
        "colab": {
          "base_uri": "https://localhost:8080/"
        },
        "id": "y9ztbWKylBTC",
        "outputId": "0c7821dc-298c-4fa7-eac8-8194a37690c3"
      },
      "execution_count": 6,
      "outputs": [
        {
          "output_type": "stream",
          "name": "stdout",
          "text": [
            "   Customer ID  Gender  Age           City Membership Type  Total Spend  \\\n",
            "0          101  Female   29       New York            Gold      1120.20   \n",
            "1          102    Male   34    Los Angeles          Silver       780.50   \n",
            "2          103  Female   43        Chicago          Bronze       510.75   \n",
            "3          104    Male   30  San Francisco            Gold      1480.30   \n",
            "4          105    Male   27          Miami          Silver       720.40   \n",
            "\n",
            "   Items Purchased  Average Rating  Discount Applied  \\\n",
            "0               14             4.6                 1   \n",
            "1               11             4.1                 0   \n",
            "2                9             3.4                 1   \n",
            "3               19             4.7                 0   \n",
            "4               13             4.0                 1   \n",
            "\n",
            "   Days Since Last Purchase Satisfaction Level  \n",
            "0                        25          Satisfied  \n",
            "1                        18            Neutral  \n",
            "2                        42        Unsatisfied  \n",
            "3                        12          Satisfied  \n",
            "4                        55        Unsatisfied  \n"
          ]
        }
      ]
    },
    {
      "cell_type": "code",
      "source": [
        "query = \"\"\"\n",
        "SELECT\n",
        "    COUNT(*) AS Total_Rows,\n",
        "    SUM(CASE WHEN `Customer ID` IS NULL THEN 1 ELSE 0 END) AS Null_Customer_ID, -- Enclose 'Customer ID' in backticks\n",
        "    SUM(CASE WHEN `Total Spend` IS NULL THEN 1 ELSE 0 END) AS Null_Total_Spend -- Enclose 'Total Spend' in backticks\n",
        "FROM customers;\n",
        "\"\"\"\n",
        "print(pd.read_sql(query, conn))\n"
      ],
      "metadata": {
        "colab": {
          "base_uri": "https://localhost:8080/"
        },
        "id": "0raKgqaylFlK",
        "outputId": "822c6d64-49f9-4a45-a954-ad1429eeb326"
      },
      "execution_count": 11,
      "outputs": [
        {
          "output_type": "stream",
          "name": "stdout",
          "text": [
            "   Total_Rows  Null_Customer_ID  Null_Total_Spend\n",
            "0         350                 0                 0\n"
          ]
        }
      ]
    },
    {
      "cell_type": "code",
      "source": [
        "query = \"\"\"\n",
        "DELETE FROM customers\n",
        "WHERE `Customer ID` IS NULL OR `Total Spend` IS NULL; -- Enclose column names with spaces in backticks\n",
        "\"\"\"\n",
        "conn.execute(query)\n"
      ],
      "metadata": {
        "colab": {
          "base_uri": "https://localhost:8080/"
        },
        "id": "vTAt5s7Mlw0m",
        "outputId": "8f5efebf-deee-4442-812e-c3dd4986bdcc"
      },
      "execution_count": 13,
      "outputs": [
        {
          "output_type": "execute_result",
          "data": {
            "text/plain": [
              "<sqlite3.Cursor at 0x7e8e31c6c2c0>"
            ]
          },
          "metadata": {},
          "execution_count": 13
        }
      ]
    },
    {
      "cell_type": "code",
      "source": [
        "query = \"\"\"\n",
        "SELECT\n",
        "    `Customer ID`, -- Enclose column name with backticks\n",
        "    SUM(`Total Spend`) AS `Total Spend`, -- Enclose column name with backticks\n",
        "    SUM(`Items Purchased`) AS `Items Purchased`, -- Enclose column name with backticks\n",
        "    AVG(`Days Since Last Purchase`) AS `Avg Days Since Last Purchase`, -- Enclose the correct column name 'Days Since Last Purchase' with backticks\n",
        "    MAX(`Satisfaction Level`) AS `Satisfaction Level` -- Enclose column name with backticks\n",
        "FROM customers\n",
        "GROUP BY `Customer ID`; -- Enclose column name with backticks\n",
        "\"\"\"\n",
        "aggregated_data = pd.read_sql(query, conn)\n",
        "print(aggregated_data.head())\n"
      ],
      "metadata": {
        "colab": {
          "base_uri": "https://localhost:8080/"
        },
        "id": "oagiJNVmmH8o",
        "outputId": "80480007-9146-488e-80f9-002303bce39a"
      },
      "execution_count": 17,
      "outputs": [
        {
          "output_type": "stream",
          "name": "stdout",
          "text": [
            "   Customer ID  Total Spend  Items Purchased  Avg Days Since Last Purchase  \\\n",
            "0          101      1120.20               14                          25.0   \n",
            "1          102       780.50               11                          18.0   \n",
            "2          103       510.75                9                          42.0   \n",
            "3          104      1480.30               19                          12.0   \n",
            "4          105       720.40               13                          55.0   \n",
            "\n",
            "  Satisfaction Level  \n",
            "0          Satisfied  \n",
            "1            Neutral  \n",
            "2        Unsatisfied  \n",
            "3          Satisfied  \n",
            "4        Unsatisfied  \n"
          ]
        }
      ]
    },
    {
      "cell_type": "code",
      "source": [
        "query = \"\"\"\n",
        "SELECT *,\n",
        "    CASE\n",
        "        WHEN `Total Spend` > 1000 AND `Items Purchased` > 50 THEN 'High Value'  -- Enclose 'Total Spend' and 'Items Purchased' in backticks\n",
        "        WHEN `Total Spend` BETWEEN 500 AND 1000 THEN 'Moderate Value' -- Enclose 'Total Spend' in backticks\n",
        "        ELSE 'Low Value'\n",
        "    END AS `Customer Segment` -- Enclose 'Customer Segment' in backticks to avoid syntax error\n",
        "FROM (\n",
        "    SELECT\n",
        "        `Customer ID`, -- Enclose 'Customer ID' in backticks\n",
        "        SUM(`Total Spend`) AS `Total Spend`, -- Enclose 'Total Spend' in backticks\n",
        "        SUM(`Items Purchased`) AS `Items Purchased`, -- Enclose 'Items Purchased' in backticks\n",
        "        AVG(`Days Since Last Purchase`) AS `Avg Days Since Last Purchase`, -- Enclose 'Days Since Last Purchase' in backticks\n",
        "        MAX(`Satisfaction Level`) AS `Satisfaction Level` -- Enclose 'Satisfaction Level' in backticks\n",
        "    FROM customers\n",
        "    GROUP BY `Customer ID` -- Enclose 'Customer ID' in backticks\n",
        ") AS aggregated;\n",
        "\"\"\"\n",
        "segmented_data = pd.read_sql(query, conn)\n",
        "print(segmented_data.head())\n"
      ],
      "metadata": {
        "colab": {
          "base_uri": "https://localhost:8080/"
        },
        "id": "Bo8ctueNnKwQ",
        "outputId": "0a071efe-ac7d-47df-9dd7-421ae321dc6b"
      },
      "execution_count": 20,
      "outputs": [
        {
          "output_type": "stream",
          "name": "stdout",
          "text": [
            "   Customer ID  Total Spend  Items Purchased  Avg Days Since Last Purchase  \\\n",
            "0          101      1120.20               14                          25.0   \n",
            "1          102       780.50               11                          18.0   \n",
            "2          103       510.75                9                          42.0   \n",
            "3          104      1480.30               19                          12.0   \n",
            "4          105       720.40               13                          55.0   \n",
            "\n",
            "  Satisfaction Level Customer Segment  \n",
            "0          Satisfied        Low Value  \n",
            "1            Neutral   Moderate Value  \n",
            "2        Unsatisfied   Moderate Value  \n",
            "3          Satisfied        Low Value  \n",
            "4        Unsatisfied   Moderate Value  \n"
          ]
        }
      ]
    },
    {
      "cell_type": "code",
      "source": [
        "segmented_data.to_csv('Customer_Segments_SQL.csv', index=False)\n"
      ],
      "metadata": {
        "id": "1Zf_NWqVn1K2"
      },
      "execution_count": 21,
      "outputs": []
    }
  ]
}